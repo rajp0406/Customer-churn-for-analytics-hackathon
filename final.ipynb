{
 "cells": [
  {
   "cell_type": "code",
   "execution_count": 1,
   "metadata": {},
   "outputs": [],
   "source": [
    "# import 'Pandas' \n",
    "import pandas as pd \n",
    "\n",
    "# import 'Numpy' \n",
    "import numpy as np\n",
    "\n",
    "# import subpackage of Matplotlib\n",
    "import matplotlib.pyplot as plt\n",
    "\n",
    "# import 'Seaborn' \n",
    "import seaborn as sns\n",
    "\n",
    "# to suppress warnings \n",
    "from warnings import filterwarnings\n",
    "filterwarnings('ignore')\n",
    "\n",
    "# display all columns of the dataframe\n",
    "pd.options.display.max_columns = None\n",
    "\n",
    "# display all rows of the dataframe\n",
    "pd.options.display.max_rows = None\n",
    " \n",
    "# to display the float values upto 6 decimal places     \n",
    "pd.options.display.float_format = '{:.6f}'.format\n",
    "\n",
    "# import train-test split \n",
    "from sklearn.model_selection import train_test_split\n",
    "\n",
    "# 'metrics' from sklearn is used for evaluating the model performance\n",
    "from sklearn.metrics import mean_squared_error,log_loss\n",
    "\n",
    "# import functions to perform feature selection\n",
    "from mlxtend.feature_selection import SequentialFeatureSelector as sfs\n",
    "from sklearn.feature_selection import RFE\n",
    "\n",
    "# import functions to perform cross validation\n",
    "from sklearn.model_selection import LeaveOneOut\n",
    "from sklearn.model_selection import cross_val_score\n",
    "from sklearn.model_selection import KFold\n",
    "plt.rcParams['figure.figsize'] = [15,8]"
   ]
  },
  {
   "cell_type": "code",
   "execution_count": 2,
   "metadata": {},
   "outputs": [
    {
     "data": {
      "text/html": [
       "<div>\n",
       "<style scoped>\n",
       "    .dataframe tbody tr th:only-of-type {\n",
       "        vertical-align: middle;\n",
       "    }\n",
       "\n",
       "    .dataframe tbody tr th {\n",
       "        vertical-align: top;\n",
       "    }\n",
       "\n",
       "    .dataframe thead th {\n",
       "        text-align: right;\n",
       "    }\n",
       "</style>\n",
       "<table border=\"1\" class=\"dataframe\">\n",
       "  <thead>\n",
       "    <tr style=\"text-align: right;\">\n",
       "      <th></th>\n",
       "      <th>ID</th>\n",
       "      <th>Age</th>\n",
       "      <th>Gender</th>\n",
       "      <th>Income</th>\n",
       "      <th>Balance</th>\n",
       "      <th>Vintage</th>\n",
       "      <th>Transaction_Status</th>\n",
       "      <th>Product_Holdings</th>\n",
       "      <th>Credit_Card</th>\n",
       "      <th>Credit_Category</th>\n",
       "      <th>Is_Churn</th>\n",
       "    </tr>\n",
       "  </thead>\n",
       "  <tbody>\n",
       "    <tr>\n",
       "      <th>0</th>\n",
       "      <td>84e2fcc9</td>\n",
       "      <td>36</td>\n",
       "      <td>Female</td>\n",
       "      <td>5L - 10L</td>\n",
       "      <td>563266.440000</td>\n",
       "      <td>4</td>\n",
       "      <td>0</td>\n",
       "      <td>1</td>\n",
       "      <td>0</td>\n",
       "      <td>Average</td>\n",
       "      <td>1</td>\n",
       "    </tr>\n",
       "    <tr>\n",
       "      <th>1</th>\n",
       "      <td>57fea15e</td>\n",
       "      <td>53</td>\n",
       "      <td>Female</td>\n",
       "      <td>Less than 5L</td>\n",
       "      <td>875572.110000</td>\n",
       "      <td>2</td>\n",
       "      <td>1</td>\n",
       "      <td>1</td>\n",
       "      <td>1</td>\n",
       "      <td>Poor</td>\n",
       "      <td>0</td>\n",
       "    </tr>\n",
       "    <tr>\n",
       "      <th>2</th>\n",
       "      <td>8df34ef3</td>\n",
       "      <td>35</td>\n",
       "      <td>Female</td>\n",
       "      <td>More than 15L</td>\n",
       "      <td>701607.060000</td>\n",
       "      <td>2</td>\n",
       "      <td>1</td>\n",
       "      <td>2</td>\n",
       "      <td>0</td>\n",
       "      <td>Poor</td>\n",
       "      <td>0</td>\n",
       "    </tr>\n",
       "    <tr>\n",
       "      <th>3</th>\n",
       "      <td>c5c0788b</td>\n",
       "      <td>43</td>\n",
       "      <td>Female</td>\n",
       "      <td>More than 15L</td>\n",
       "      <td>1393922.160000</td>\n",
       "      <td>0</td>\n",
       "      <td>1</td>\n",
       "      <td>2</td>\n",
       "      <td>1</td>\n",
       "      <td>Poor</td>\n",
       "      <td>1</td>\n",
       "    </tr>\n",
       "    <tr>\n",
       "      <th>4</th>\n",
       "      <td>951d69c4</td>\n",
       "      <td>39</td>\n",
       "      <td>Female</td>\n",
       "      <td>More than 15L</td>\n",
       "      <td>893146.230000</td>\n",
       "      <td>1</td>\n",
       "      <td>1</td>\n",
       "      <td>1</td>\n",
       "      <td>1</td>\n",
       "      <td>Good</td>\n",
       "      <td>1</td>\n",
       "    </tr>\n",
       "  </tbody>\n",
       "</table>\n",
       "</div>"
      ],
      "text/plain": [
       "         ID  Age  Gender         Income        Balance  Vintage  \\\n",
       "0  84e2fcc9   36  Female       5L - 10L  563266.440000        4   \n",
       "1  57fea15e   53  Female   Less than 5L  875572.110000        2   \n",
       "2  8df34ef3   35  Female  More than 15L  701607.060000        2   \n",
       "3  c5c0788b   43  Female  More than 15L 1393922.160000        0   \n",
       "4  951d69c4   39  Female  More than 15L  893146.230000        1   \n",
       "\n",
       "   Transaction_Status Product_Holdings  Credit_Card Credit_Category  Is_Churn  \n",
       "0                   0                1            0         Average         1  \n",
       "1                   1                1            1            Poor         0  \n",
       "2                   1                2            0            Poor         0  \n",
       "3                   1                2            1            Poor         1  \n",
       "4                   1                1            1            Good         1  "
      ]
     },
     "execution_count": 2,
     "metadata": {},
     "output_type": "execute_result"
    }
   ],
   "source": [
    "train=pd.read_csv('train_PDjVQMB.csv')\n",
    "df_test=pd.read_csv('test_lTY72QC.csv')\n",
    "train.head()"
   ]
  },
  {
   "cell_type": "code",
   "execution_count": 3,
   "metadata": {},
   "outputs": [
    {
     "name": "stdout",
     "output_type": "stream",
     "text": [
      "total rows in train: 6650\n",
      "total rows in test: 2851\n"
     ]
    }
   ],
   "source": [
    "print('total rows in train:',len(train))\n",
    "print('total rows in test:',len(df_test))"
   ]
  },
  {
   "cell_type": "code",
   "execution_count": 4,
   "metadata": {},
   "outputs": [
    {
     "data": {
      "text/plain": [
       "0    5113\n",
       "1    1537\n",
       "Name: Is_Churn, dtype: int64"
      ]
     },
     "execution_count": 4,
     "metadata": {},
     "output_type": "execute_result"
    }
   ],
   "source": [
    "train['Is_Churn'].value_counts()"
   ]
  },
  {
   "cell_type": "markdown",
   "metadata": {},
   "source": [
    "# Missing values"
   ]
  },
  {
   "cell_type": "code",
   "execution_count": 5,
   "metadata": {},
   "outputs": [
    {
     "data": {
      "text/plain": [
       "ID                    0\n",
       "Age                   0\n",
       "Gender                0\n",
       "Income                0\n",
       "Balance               0\n",
       "Vintage               0\n",
       "Transaction_Status    0\n",
       "Product_Holdings      0\n",
       "Credit_Card           0\n",
       "Credit_Category       0\n",
       "Is_Churn              0\n",
       "dtype: int64"
      ]
     },
     "execution_count": 5,
     "metadata": {},
     "output_type": "execute_result"
    }
   ],
   "source": [
    "train.isnull().sum()\n",
    "#No missing values"
   ]
  },
  {
   "cell_type": "markdown",
   "metadata": {},
   "source": [
    "# Categorizing variables and removing non-valuable features"
   ]
  },
  {
   "cell_type": "code",
   "execution_count": 35,
   "metadata": {},
   "outputs": [],
   "source": [
    "train[['Credit_Card','Transaction_Status','Product_Holdings','Vintage']]=train[['Credit_Card','Transaction_Status','Product_Holdings','Vintage']].astype('object')\n",
    "df_test[['Credit_Card','Transaction_Status','Product_Holdings','Vintage']]=train[['Credit_Card','Transaction_Status','Product_Holdings','Vintage']].astype('object')\n",
    "train=train.drop(['ID'],axis=1)\n",
    "test1=df_test.drop(['ID'],axis=1)\n",
    "#We can remove ID, since it's not valuable"
   ]
  },
  {
   "cell_type": "markdown",
   "metadata": {},
   "source": [
    "# EDA and statistics"
   ]
  },
  {
   "cell_type": "code",
   "execution_count": 41,
   "metadata": {},
   "outputs": [
    {
     "name": "stdout",
     "output_type": "stream",
     "text": [
      "Test statistic: 0.9694454669952393\n",
      "P-Value: 2.2467584268574727e-35\n",
      "Test Statistic: 3634297.5\n",
      "p_value: 3.901697115502177e-06\n"
     ]
    }
   ],
   "source": [
    "from statsmodels.stats import weightstats as stests\n",
    "from scipy import stats\n",
    "a=train[train['Is_Churn']==1]['Balance']\n",
    "b=train[train['Is_Churn']==0]['Balance']\n",
    "stat, p_value = stats.shapiro(train['Balance'])\n",
    "\n",
    "# print the test statistic and corresponding p-value \n",
    "print('Test statistic:', stat)\n",
    "print('P-Value:', p_value)\n",
    "#not normal, hence we will go with non parametric test\n",
    "\n",
    "#H0: Mean balance of churn=mean balance of non churn, H1: Mean balance of churn!=mean balance of non churn\n",
    "test = stats.mannwhitneyu(a,b)\n",
    "print('Test Statistic:',test[0])\n",
    "print('p_value:',test[1])\n",
    "#Since p value is less than 0.05, we fail to accept null hypothesis and conclude balance makes a difference in churning"
   ]
  },
  {
   "cell_type": "code",
   "execution_count": 42,
   "metadata": {},
   "outputs": [
    {
     "name": "stdout",
     "output_type": "stream",
     "text": [
      "Test statistic: 0.9728818535804749\n",
      "P-Value: 1.0851392428623631e-33\n",
      "Test Statistic: 2862118.5\n",
      "p_value: 3.549905911366895e-59\n"
     ]
    }
   ],
   "source": [
    "a=train[train['Is_Churn']==1]['Age']\n",
    "b=train[train['Is_Churn']==0]['Age']\n",
    "stat, p_value = stats.shapiro(train['Age'])\n",
    "\n",
    "# print the test statistic and corresponding p-value \n",
    "print('Test statistic:', stat)\n",
    "print('P-Value:', p_value)\n",
    "#not normal, hence we will go with non parametric test\n",
    "\n",
    "#H0: Mean age of churn=mean age of non churn, H1: mean age  of churn!=mean age  of non churn\n",
    "test = stats.mannwhitneyu(a,b)\n",
    "print('Test Statistic:',test[0])\n",
    "print('p_value:',test[1])\n",
    "#Since p value is less than 0.05, we fail to accept null hypothesis and conclude age makes a difference in churning"
   ]
  },
  {
   "cell_type": "code",
   "execution_count": 45,
   "metadata": {},
   "outputs": [
    {
     "data": {
      "image/png": "[encoded data removed]",
      "text/plain": [
       "<Figure size 1080x576 with 1 Axes>"
      ]
     },
     "metadata": {
      "needs_background": "light"
     },
     "output_type": "display_data"
    }
   ],
   "source": [
    "sns.barplot('Is_Churn','Balance',data=train)\n",
    "plt.show()"
   ]
  },
  {
   "cell_type": "code",
   "execution_count": 43,
   "metadata": {},
   "outputs": [
    {
     "data": {
      "text/plain": [
       "array([[1441,  444],\n",
       "       [1435,  412],\n",
       "       [1219,  354],\n",
       "       [1018,  327]], dtype=int64)"
      ]
     },
     "execution_count": 43,
     "metadata": {},
     "output_type": "execute_result"
    }
   ],
   "source": [
    "#H0: income and churning are dependent, H1: income and churning are independent\n",
    "\n",
    "from scipy.stats import chi2_contingency\n",
    "from scipy.stats import chi2\n",
    "from scipy.stats import chisquare\n",
    "table = pd.crosstab(train['Income'], train['Is_Churn'])\n",
    "\n",
    "# observed values  \n",
    "observed_value = table.values\n",
    "observed_value"
   ]
  },
  {
   "cell_type": "code",
   "execution_count": 44,
   "metadata": {},
   "outputs": [
    {
     "name": "stdout",
     "output_type": "stream",
     "text": [
      "Critical value for chi-square test: 7.8147\n",
      "Test statistic: 2.2987866169421673\n",
      "p-value: 0.5127533988151645\n"
     ]
    }
   ],
   "source": [
    "chi2_val = np.abs(round(stats.chi2.isf(q = 0.05, df = 3), 4))\n",
    "\n",
    "print('Critical value for chi-square test:', chi2_val)\n",
    "test_stat, p, dof, expected_value = chi2_contingency(observed = observed_value, correction = False)\n",
    "\n",
    "print(\"Test statistic:\", test_stat)\n",
    "print(\"p-value:\", p)\n",
    "#We fail to reject null hypothesis and conclude income and churning are independent"
   ]
  },
  {
   "cell_type": "code",
   "execution_count": 46,
   "metadata": {},
   "outputs": [
    {
     "data": {
      "image/png": "[encoded data removed]",
      "text/plain": [
       "<Figure size 1080x576 with 1 Axes>"
      ]
     },
     "metadata": {
      "needs_background": "light"
     },
     "output_type": "display_data"
    }
   ],
   "source": [
    "#Income vs churn\n",
    "sns.countplot('Income',hue='Is_Churn',data=train)\n",
    "plt.show()\n",
    "#Income 10L-15L has more churns"
   ]
  },
  {
   "cell_type": "code",
   "execution_count": 49,
   "metadata": {},
   "outputs": [
    {
     "name": "stdout",
     "output_type": "stream",
     "text": [
      "Critical value for chi-square test: 11.0705\n",
      "Test statistic: 10.156752148041022\n",
      "p-value: 0.07091364326527481\n"
     ]
    }
   ],
   "source": [
    "#H0: vintage and churning are independent, H1: vintage and churning are dependent\n",
    "\n",
    "table = pd.crosstab(train['Vintage'], train['Is_Churn'])\n",
    "\n",
    "# observed values  \n",
    "observed_value = table.values\n",
    "chi2_val = np.abs(round(stats.chi2.isf(q = 0.05, df = 5), 4))\n",
    "\n",
    "print('Critical value for chi-square test:', chi2_val)\n",
    "test_stat, p, dof, expected_value = chi2_contingency(observed = observed_value, correction = False)\n",
    "\n",
    "print(\"Test statistic:\", test_stat)\n",
    "print(\"p-value:\", p)\n",
    "#We fail to reject null hypothesis and conclude vintage and churning are independent"
   ]
  },
  {
   "cell_type": "code",
   "execution_count": 47,
   "metadata": {},
   "outputs": [
    {
     "data": {
      "image/png": "[encoded data removed]",
      "text/plain": [
       "<Figure size 1080x576 with 1 Axes>"
      ]
     },
     "metadata": {
      "needs_background": "light"
     },
     "output_type": "display_data"
    }
   ],
   "source": [
    "#Vintage vs churn\n",
    "sns.countplot('Vintage',hue='Is_Churn',data=train)\n",
    "plt.show()"
   ]
  },
  {
   "cell_type": "code",
   "execution_count": 51,
   "metadata": {},
   "outputs": [
    {
     "name": "stdout",
     "output_type": "stream",
     "text": [
      "Critical value for chi-square test: 5.9915\n",
      "Test statistic: 10.304629564199358\n",
      "p-value: 0.005785995893842243\n"
     ]
    }
   ],
   "source": [
    "#H0: Credit_Category and churning are independent, H1: Credit_Category and churning are dependent\n",
    "\n",
    "table = pd.crosstab(train['Credit_Category'], train['Is_Churn'])\n",
    "\n",
    "# observed values  \n",
    "observed_value = table.values\n",
    "chi2_val = np.abs(round(stats.chi2.isf(q = 0.05, df = 2), 4))\n",
    "\n",
    "print('Critical value for chi-square test:', chi2_val)\n",
    "test_stat, p, dof, expected_value = chi2_contingency(observed = observed_value, correction = False)\n",
    "\n",
    "print(\"Test statistic:\", test_stat)\n",
    "print(\"p-value:\", p)\n",
    "#We fail to accept null hypothesis and conclude Credit_Category and churning are dependent"
   ]
  },
  {
   "cell_type": "code",
   "execution_count": 53,
   "metadata": {},
   "outputs": [
    {
     "data": {
      "image/png": "[encoded data removed]",
      "text/plain": [
       "<Figure size 1080x576 with 1 Axes>"
      ]
     },
     "metadata": {
      "needs_background": "light"
     },
     "output_type": "display_data"
    }
   ],
   "source": [
    "#credit_category vs churn\n",
    "sns.countplot('Credit_Category',hue='Is_Churn',data=train)\n",
    "plt.show()\n",
    "#poor category has more churns"
   ]
  },
  {
   "cell_type": "code",
   "execution_count": 57,
   "metadata": {},
   "outputs": [
    {
     "name": "stdout",
     "output_type": "stream",
     "text": [
      "Critical value for chi-square test: 5.9915\n",
      "Test statistic: 0.0047833047862159755\n",
      "p-value: 0.944861115983124\n"
     ]
    }
   ],
   "source": [
    "#H0: Credit_Card and churning are independent, H1: Credit_Card and churning are dependent\n",
    "\n",
    "table = pd.crosstab(train['Credit_Card'], train['Is_Churn'])\n",
    "\n",
    "# observed values  \n",
    "observed_value = table.values\n",
    "chi2_val = np.abs(round(stats.chi2.isf(q = 0.05, df = 2), 4))\n",
    "\n",
    "print('Critical value for chi-square test:', chi2_val)\n",
    "test_stat, p, dof, expected_value = chi2_contingency(observed = observed_value, correction = False)\n",
    "\n",
    "print(\"Test statistic:\", test_stat)\n",
    "print(\"p-value:\", p)\n",
    "#We fail to accept null hypothesis and conclude Credit_Card and churning are independent"
   ]
  },
  {
   "cell_type": "code",
   "execution_count": 56,
   "metadata": {},
   "outputs": [
    {
     "data": {
      "image/png": "[encoded data removed]",
      "text/plain": [
       "<Figure size 1080x576 with 1 Axes>"
      ]
     },
     "metadata": {
      "needs_background": "light"
     },
     "output_type": "display_data"
    }
   ],
   "source": [
    "#credit_card vs churn\n",
    "sns.countplot('Credit_Card',hue='Is_Churn',data=train)\n",
    "plt.show()\n",
    "#having a credit card churns"
   ]
  },
  {
   "cell_type": "code",
   "execution_count": 58,
   "metadata": {},
   "outputs": [
    {
     "name": "stdout",
     "output_type": "stream",
     "text": [
      "Critical value for chi-square test: 3.8415\n",
      "Test statistic: 19.097390051725917\n",
      "p-value: 1.2421463765951643e-05\n"
     ]
    }
   ],
   "source": [
    "#H0: Gender and churning are independent, H1: Gender and churning are dependent\n",
    "\n",
    "table = pd.crosstab(train['Gender'], train['Is_Churn'])\n",
    "\n",
    "# observed values  \n",
    "observed_value = table.values\n",
    "chi2_val = np.abs(round(stats.chi2.isf(q = 0.05, df = 1), 4))\n",
    "\n",
    "print('Critical value for chi-square test:', chi2_val)\n",
    "test_stat, p, dof, expected_value = chi2_contingency(observed = observed_value, correction = False)\n",
    "\n",
    "print(\"Test statistic:\", test_stat)\n",
    "print(\"p-value:\", p)\n",
    "#We fail to accept null hypothesis and conclude Credit_Card and churning are dependent"
   ]
  },
  {
   "cell_type": "code",
   "execution_count": 62,
   "metadata": {},
   "outputs": [
    {
     "name": "stdout",
     "output_type": "stream",
     "text": [
      "Critical value for chi-square test: 5.9915\n",
      "Test statistic: 7.30475789538985\n",
      "p-value: 0.025929370731566714\n"
     ]
    }
   ],
   "source": [
    "#H0: Product_Holdings and churning are independent, H1: Product_Holdings and churning are dependent\n",
    "\n",
    "table = pd.crosstab(train['Product_Holdings'], train['Is_Churn'])\n",
    "\n",
    "# observed values  \n",
    "observed_value = table.values\n",
    "chi2_val = np.abs(round(stats.chi2.isf(q = 0.05, df = 2), 4))\n",
    "\n",
    "print('Critical value for chi-square test:', chi2_val)\n",
    "test_stat, p, dof, expected_value = chi2_contingency(observed = observed_value, correction = False)\n",
    "\n",
    "print(\"Test statistic:\", test_stat)\n",
    "print(\"p-value:\", p)\n",
    "#We fail to accept null hypothesis and conclude Product_Holdings and churning are dependent"
   ]
  },
  {
   "cell_type": "markdown",
   "metadata": {},
   "source": [
    "# Scaling Numerical variables"
   ]
  },
  {
   "cell_type": "code",
   "execution_count": 8,
   "metadata": {},
   "outputs": [],
   "source": [
    "#Train data scaling\n",
    "from sklearn.preprocessing import StandardScaler,MinMaxScaler,LabelEncoder\n",
    "ss=StandardScaler()\n",
    "mm=MinMaxScaler()\n",
    "le=LabelEncoder()\n",
    "df_train_cat=train.select_dtypes('object')\n",
    "df_train_num1=train.select_dtypes(np.number).drop('Is_Churn',axis=1)\n",
    "num21=mm.fit_transform(df_train_num1)\n",
    "num=pd.DataFrame(num21,columns=df_train_num1.columns)"
   ]
  },
  {
   "cell_type": "code",
   "execution_count": 9,
   "metadata": {},
   "outputs": [],
   "source": [
    "#Test data scaling\n",
    "df_test_cat=test1.select_dtypes('object')\n",
    "df_test_num1=test1.select_dtypes(np.number)\n",
    "num21test=ss.fit_transform(df_test_num1)\n",
    "numtest=pd.DataFrame(num21test,columns=df_train_num1.columns)"
   ]
  },
  {
   "cell_type": "markdown",
   "metadata": {},
   "source": [
    "# Feature Engineering"
   ]
  },
  {
   "cell_type": "code",
   "execution_count": 10,
   "metadata": {},
   "outputs": [],
   "source": [
    "#train features\n",
    "#Encoding categorical variables\n",
    "a=train.select_dtypes('object')\n",
    "a['Income']=a['Income'].replace(['Less than 5L','5L - 10L','More than 15L'],[1,2,3])\n",
    "a['Product_Holdings']=a['Product_Holdings'].replace(['1','2','3+'],[1,2,3])\n",
    "a['Credit_Category']=a['Credit_Category'].replace(['Poor','Average','Good'],[1,2,3])\n",
    "a['Gender']=a['Gender'].replace(['Female','Male'],[1,0])\n",
    "df1=pd.concat([num,a],axis=1)#joining scaled numerical variables and encoded categorical variables\n",
    "df1['Income']=df1['Income'].replace('10L - 15L',4)\n",
    "df1[['Income','Vintage','Transaction_Status','Credit_Card']]=df1[['Income','Vintage','Transaction_Status','Credit_Card']].astype('int')\n",
    "#Changing ['Income','Vintage','Transaction_Status','Credit_Card'] for adding new features"
   ]
  },
  {
   "cell_type": "code",
   "execution_count": 11,
   "metadata": {},
   "outputs": [],
   "source": [
    "#test features\n",
    "#Encoding categorical variables\n",
    "b=test1.select_dtypes('object')\n",
    "b['Income']=b['Income'].replace(['Less than 5L','5L - 10L','More than 15L'],[1,2,3])\n",
    "b['Product_Holdings']=b['Product_Holdings'].replace(['1','2','3+'],[1,2,3])\n",
    "b['Credit_Category']=b['Credit_Category'].replace(['Poor','Average','Good'],[1,2,3])\n",
    "b['Gender']=b['Gender'].replace(['Female','Male'],[1,0])\n",
    "df2=pd.concat([numtest,b],axis=1) #joining scaled numerical variables and encoded categorical variables\n",
    "df2['Income']=df2['Income'].replace('10L - 15L',4)\n",
    "df2[['Income','Vintage','Transaction_Status','Credit_Card']]=df2[['Income','Vintage','Transaction_Status','Credit_Card']].astype('int')"
   ]
  },
  {
   "cell_type": "code",
   "execution_count": 13,
   "metadata": {},
   "outputs": [],
   "source": [
    "df1['bal_inc']=df1['Balance']*df1['Income']\n",
    "df1['vint_tran']=df1['Vintage']*df1['Transaction_Status']\n",
    "df1['vint_prod']=df1['Vintage']*df1['Product_Holdings']\n",
    "df1['vint_cred']=df1['Vintage']*df1['Credit_Card']\n",
    "df1['vint_credcat']=df1['Vintage']*df1['Credit_Category']\n",
    "df1['prod_credcat']=df1['Credit_Category']*df1['Product_Holdings']\n",
    "df1['bal_cred']=df1['Balance']*df1['Credit_Card']\n",
    "df1['bal_credcat']=df1['Balance']*df1['Credit_Category']"
   ]
  },
  {
   "cell_type": "code",
   "execution_count": 14,
   "metadata": {},
   "outputs": [],
   "source": [
    "df2['bal_inc']=df2['Balance']*df2['Income']\n",
    "df2['vint_tran']=df2['Vintage']*df2['Transaction_Status']\n",
    "df2['vint_prod']=df2['Vintage']*df2['Product_Holdings']\n",
    "df2['vint_cred']=df2['Vintage']*df2['Credit_Card']\n",
    "df2['vint_credcat']=df2['Vintage']*df2['Credit_Category']\n",
    "df2['prod_credcat']=df2['Credit_Category']*df2['Product_Holdings']\n",
    "df2['bal_cred']=df2['Balance']*df2['Credit_Card']\n",
    "df2['bal_credcat']=df2['Balance']*df2['Credit_Category']"
   ]
  },
  {
   "cell_type": "markdown",
   "metadata": {},
   "source": [
    "# Splitting into train and test"
   ]
  },
  {
   "cell_type": "code",
   "execution_count": 18,
   "metadata": {},
   "outputs": [],
   "source": [
    "X=df1\n",
    "Y=train['Is_Churn']\n",
    "X_train, X_test, Y_train, Y_test = train_test_split(X, Y, test_size = 0.2)"
   ]
  },
  {
   "cell_type": "markdown",
   "metadata": {},
   "source": [
    "# ANN model"
   ]
  },
  {
   "cell_type": "code",
   "execution_count": 15,
   "metadata": {},
   "outputs": [],
   "source": [
    "#Using Neural Networks since this gave the best result compared to other ML models\n",
    "from keras.models import Sequential\n",
    "from keras.layers import Dense,Activation\n",
    "from keras.activations import relu,sigmoid\n",
    "from keras.wrappers.scikit_learn import KerasClassifier\n",
    "from sklearn.model_selection import GridSearchCV\n",
    "from tensorflow.keras.optimizers import Adam\n",
    "import tensorflow as tf\n",
    "from tensorflow import keras\n",
    "import matplotlib.pyplot as plt\n",
    "%matplotlib inline\n",
    "import numpy as np"
   ]
  },
  {
   "cell_type": "markdown",
   "metadata": {},
   "source": [
    "Tried keras tuner to find the optimal number of hidden layers, neurons in each layer and learning rate but the best result was obtained using trial and error method. The following no of hidden layers,neurons, learning rate and dropout layers were found out after numerous trial and error method"
   ]
  },
  {
   "cell_type": "code",
   "execution_count": 22,
   "metadata": {},
   "outputs": [],
   "source": [
    "model=keras.Sequential([\n",
    "    keras.layers.Dense(1200,input_shape=(len(X_train.columns),),activation='relu'),\n",
    "    keras.layers.Dense(900,activation='relu'),\n",
    "    keras.layers.Dense(500,activation='relu'),\n",
    "    keras.layers.Dropout(0.2),\n",
    "    keras.layers.Dense(250,activation='relu'),\n",
    "    keras.layers.Dropout(0.2),\n",
    "    keras.layers.Dense(6,activation='relu'),\n",
    "    keras.layers.Dense(1,activation='sigmoid')\n",
    "    ])\n",
    "model.compile(loss='binary_crossentropy', optimizer=tf.keras.optimizers.Adam(learning_rate=0.01),metrics=[tf.keras.metrics.Recall()])"
   ]
  },
  {
   "cell_type": "code",
   "execution_count": 23,
   "metadata": {},
   "outputs": [
    {
     "name": "stdout",
     "output_type": "stream",
     "text": [
      "Epoch 1/15\n",
      "56/56 [==============================] - 2s 21ms/step - loss: 1.0593 - recall_1: 0.0000e+00\n",
      "Epoch 2/15\n",
      "56/56 [==============================] - 1s 22ms/step - loss: 0.5405 - recall_1: 0.0000e+00\n",
      "Epoch 3/15\n",
      "56/56 [==============================] - 1s 22ms/step - loss: 0.5342 - recall_1: 0.0000e+00\n",
      "Epoch 4/15\n",
      "56/56 [==============================] - 1s 21ms/step - loss: 0.5393 - recall_1: 0.0000e+00\n",
      "Epoch 5/15\n",
      "56/56 [==============================] - 1s 21ms/step - loss: 0.5286 - recall_1: 0.0000e+00\n",
      "Epoch 6/15\n",
      "56/56 [==============================] - 1s 23ms/step - loss: 0.5291 - recall_1: 0.0000e+00\n",
      "Epoch 7/15\n",
      "56/56 [==============================] - 1s 22ms/step - loss: 0.5294 - recall_1: 0.0000e+00\n",
      "Epoch 8/15\n",
      "56/56 [==============================] - 1s 22ms/step - loss: 0.5268 - recall_1: 0.0000e+00\n",
      "Epoch 9/15\n",
      "56/56 [==============================] - 1s 22ms/step - loss: 0.5259 - recall_1: 0.0000e+00\n",
      "Epoch 10/15\n",
      "56/56 [==============================] - 1s 21ms/step - loss: 0.5282 - recall_1: 0.0000e+00\n",
      "Epoch 11/15\n",
      "56/56 [==============================] - 1s 21ms/step - loss: 0.5258 - recall_1: 0.0000e+00\n",
      "Epoch 12/15\n",
      "56/56 [==============================] - 1s 21ms/step - loss: 0.5260 - recall_1: 0.0000e+00 0s - loss: 0.536\n",
      "Epoch 13/15\n",
      "56/56 [==============================] - 1s 21ms/step - loss: 0.5233 - recall_1: 0.0000e+00\n",
      "Epoch 14/15\n",
      "56/56 [==============================] - 1s 23ms/step - loss: 0.5226 - recall_1: 0.0000e+00\n",
      "Epoch 15/15\n",
      "56/56 [==============================] - 1s 21ms/step - loss: 0.5265 - recall_1: 0.0000e+00\n"
     ]
    },
    {
     "data": {
      "text/plain": [
       "<keras.callbacks.History at 0x2edf39dfd00>"
      ]
     },
     "execution_count": 23,
     "metadata": {},
     "output_type": "execute_result"
    }
   ],
   "source": [
    "model.fit(X_train, Y_train, epochs=15,batch_size=95)\n",
    "#Using trial and error found out the best epochs and batch size"
   ]
  },
  {
   "cell_type": "code",
   "execution_count": 28,
   "metadata": {},
   "outputs": [],
   "source": [
    "#Predicitng the final dataset\n",
    "ypred=model.predict(X_test)\n",
    "y_pred=[0 if i<0.213665 else 1  for i in ypred]\n",
    "#0.19256,0.19326 is the best cut off- used Youden index first by splitting the original training and testing it"
   ]
  },
  {
   "cell_type": "code",
   "execution_count": 29,
   "metadata": {},
   "outputs": [
    {
     "data": {
      "text/plain": [
       "0.4147982062780269"
      ]
     },
     "execution_count": 29,
     "metadata": {},
     "output_type": "execute_result"
    }
   ],
   "source": [
    "from sklearn.metrics import f1_score\n",
    "f1_score(Y_test,y_pred)\n",
    "#Just to test the original dataset by splitting"
   ]
  },
  {
   "cell_type": "markdown",
   "metadata": {},
   "source": [
    "# Youden Index for cut off"
   ]
  },
  {
   "cell_type": "code",
   "execution_count": null,
   "metadata": {},
   "outputs": [],
   "source": [
    "from sklearn.metrics import roc_curve\n",
    "fpr,tpr,th=roc_curve(Y_test,ypred)\n",
    "youden=pd.DataFrame({'fpr':fpr,'tpr':tpr,'th':th})\n",
    "youden['youden index']=youden['tpr']-youden['fpr']\n",
    "youden.sort_values(by='youden index',ascending=False)\n",
    "#0.19256,0.19326 is the best cut off"
   ]
  },
  {
   "cell_type": "markdown",
   "metadata": {},
   "source": [
    "# Save the final predicted dataset"
   ]
  },
  {
   "cell_type": "code",
   "execution_count": null,
   "metadata": {},
   "outputs": [],
   "source": [
    "submit=pd.DataFrame()\n",
    "submit['ID']=df_test['ID']\n",
    "submit['Is_Churn']=y_pred\n",
    "submit.to_csv(\"submission.csv\", index=False)"
   ]
  }
 ],
 "metadata": {
  "kernelspec": {
   "display_name": "Python 3",
   "language": "python",
   "name": "python3"
  },
  "language_info": {
   "codemirror_mode": {
    "name": "ipython",
    "version": 3
   },
   "file_extension": ".py",
   "mimetype": "text/x-python",
   "name": "python",
   "nbconvert_exporter": "python",
   "pygments_lexer": "ipython3",
   "version": "3.8.3"
  }
 },
 "nbformat": 4,
 "nbformat_minor": 4
}
